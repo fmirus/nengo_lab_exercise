{
 "cells": [
  {
   "cell_type": "markdown",
   "metadata": {},
   "source": [
    "# Assignment 2: Recurrence and dynamics"
   ]
  },
  {
   "cell_type": "markdown",
   "metadata": {},
   "source": [
    "For this assignment, the goal is to implement a simple accumulator model.  That is, we need a system that will decide which one of two actions it should perform, and it will take some time to do so.  It will make this choice based on a single input value, which gives some evidence as to which choice should be made.  It will indicate a choice by outputting either a 1 or a -1.  If that input evidence is positive, it will be more likely to make the first choice (1), and if the input evidence is negative it will be more likely to make the second choice (-1)."
   ]
  },
  {
   "cell_type": "markdown",
   "metadata": {},
   "source": [
    "First, go through the built-in tutorials 10 through 18.  This will give you an overview of different recurrent systems and different ways of modifying ```Ensembles```."
   ]
  },
  {
   "cell_type": "markdown",
   "metadata": {},
   "source": [
    "We now start by building a recurrent system that can add up evidence over time (the accumulator).  This is a neural ```Ensemble``` that holds a single dimension, and uses a small number of neurons (50).  Provide it with one input ```Node``` that has a constant value of ```[0.1]``` and connect that input into the ```Ensemble```.  Now make a ```Connection``` from the ```Ensemble``` back to itself.  Since this ```Connection``` is accumulating evidence over time, we want it to be fairly stable, so set ```synape=0.1``` on this ```Connection```.  This means that the neurotransmitter being used will spread out over 100ms, rather than the default 5ms.\n",
    "\n",
    "If you run the above system with a constant positive input, the value stored in the accumulator should gradually increase until it hits 1.  If you change the input to be negative, it should gradually decrease until it hits -1."
   ]
  },
  {
   "cell_type": "markdown",
   "metadata": {},
   "source": [
    "Next, we need to make the accumulator more random.  In a standard accumulator model, there is a \"random-walk\" component that randomly varies the value being accumulated.  We can model this by adding random noise into the ```Ensemble```.  The command for this is:\n",
    "\n",
    "```python\n",
    "acc.noise = nengo.processes.WhiteSignal(period=10, high=100, rms=3)\n",
    "```\n",
    "\n",
    "(where ```acc``` is whatever name you gave your accumulator ```Ensemble```.)\n",
    "\n",
    "The strength of this noise is set by the ```rms=3``` parameter.  Try running the model with the noise ```rms=3```, and see what happens to the accumulated value.  Try increasing and decreasing the ```rms``` value and see whether the accumulator gets more or less noisy."
   ]
  },
  {
   "cell_type": "markdown",
   "metadata": {},
   "source": [
    "Finally, we want to determine when this accumulator passes some threshold.  If the value becomes large enough, we should make one choice (+1), and if it becomes small enough we should make the other choice (-1).  To achieve this, make a new output ```Ensemble``` that is also one-dimensional.  Form a ```Connection``` from the accumulator to this new ```Ensemble``` that computes the following function:\n",
    "\n",
    "```python\n",
    "def choice(x):\n",
    "    if x[0] > 0.9:\n",
    "        return 1\n",
    "    elif x[0] < -0.9:\n",
    "        return -1\n",
    "    else: \n",
    "        return 0\n",
    "```\n",
    "\n",
    "This new output should now stay at zero until the accumulator value gets large enough, and then quickly move to +1 or -1."
   ]
  },
  {
   "cell_type": "markdown",
   "metadata": {},
   "source": [
    "## Extension 1\n",
    "\n",
    "The output from this choice is not particularly clean.  It would be nice if it stayed at exactly zero until a choice was completely made.  We can do this by changing the tuning curves for the neurons in the choice population.  In particular, we can make them only fire at all for larger values:\n",
    "\n",
    "```output.intercepts = nengo.dists.Uniform(0.7, 0.9)```\n",
    "\n",
    "Make this change and see how this affects the performance of the system.  You can look at the tuning curves by right-clicking on an ```Ensemble``` and selecting ```Details...``` and choosing ```Plots```."
   ]
  },
  {
   "cell_type": "markdown",
   "metadata": {},
   "source": [
    "## Extension 2\n",
    "\n",
    "It is also possible to combine the two Ensembles used here into a single 2-dimensional Ensemble.  The Connections are made similarly, but they need to target the particular dimensions involved using the ```ens[0]``` and ```ens[1]``` syntax.  Try building the model this way.  How does this change the performance of the system?"
   ]
  },
  {
   "cell_type": "code",
   "execution_count": null,
   "metadata": {
    "collapsed": true
   },
   "outputs": [],
   "source": []
  }
 ],
 "metadata": {
  "kernelspec": {
   "display_name": "Python 2",
   "language": "python",
   "name": "python2"
  },
  "language_info": {
   "codemirror_mode": {
    "name": "ipython",
    "version": 2
   },
   "file_extension": ".py",
   "mimetype": "text/x-python",
   "name": "python",
   "nbconvert_exporter": "python",
   "pygments_lexer": "ipython2",
   "version": "2.7.13"
  }
 },
 "nbformat": 4,
 "nbformat_minor": 0
}
