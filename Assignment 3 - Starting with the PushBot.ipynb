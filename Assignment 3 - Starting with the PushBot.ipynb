{
 "cells": [
  {
   "cell_type": "markdown",
   "metadata": {},
   "source": [
    "# Assignment 3 - Starting with the Pushbot"
   ]
  },
  {
   "cell_type": "markdown",
   "metadata": {},
   "source": [
    "## 3.1 Installing the PushBot software\n",
    "\n",
    "This Assignment assumes that you already finished Assignments 1 and 2 and your computer is already setup with Python/NumPy or [Anaconda](https://www.continuum.io/downloads) and you have a working installation of [Nengo](https://github.com/nengo/nengo) and the [Nengo-GUI](https://github.com/nengo/nengo_gui). \n",
    "\n",
    "Now get the code for the PushBot-Nengo interface by running \n",
    "```\n",
    "git clone https://github.com/fmirus/nstbot\n",
    "``` \n",
    "\n",
    "in the desired installation folder.\n",
    "Now enter the cloned repository by \n",
    "\n",
    "```\n",
    "cd nstbot\n",
    "``` \n",
    "\n",
    "and change to the branch ```nengo_lab_2_lasers``` by running\n",
    "\n",
    "```\n",
    "git checkout -b nengo_lab_2_lasers origin/nengo_lab_2_lasers\n",
    "```\n",
    "\n",
    "Now install the interface by running \n",
    "\n",
    "```\n",
    "python setup.py install\n",
    "```\n",
    "\n",
    "**Note**: if you are not in an anaconda or virtual environment this might need sudo privileges.\n",
    "\n",
    "\n"
   ]
  },
  {
   "cell_type": "markdown",
   "metadata": {},
   "source": [
    "## 3.2 Running the first example\n",
    "\n",
    "Open the file ```nstbot/lab_examples/nengo_lab_pushbot_example.py``` and change the last number of the IP-adress in line 5\n",
    "\n",
    "```\n",
    "bot.connect(nstbot.Socket('10.162.177.xxx'))\n",
    "```\n",
    "\n",
    "to the one written on your robot's WiFi-module on its backside, in this case 108:\n",
    "\n",
    "<img src=\"imgs/pushbot.png\" />"
   ]
  },
  {
   "cell_type": "markdown",
   "metadata": {},
   "source": [
    "Now connect your PC to the NSTrobots_24GHz network and run the first example by \n",
    "\n",
    "```\n",
    "nengo nstbot/lab_examples/nengo_lab_pushbot_example.py \n",
    "```\n",
    "\n",
    "With the left resp. right slider of the motors node, you can control the left resp. right wheel of the robot. The two sliders of the behave node will activate the behaviours for driving forward/backwards or turning. Positive resp. negative values of the left sliders will make the robot drive forward resp. backwards. Positive resp. negative values of the right slider will make the robot turn right resp. left. \n",
    "\n",
    "Play around with the controls und drive the robot around. How does the value of the y_av ensemble changed based on the location of the two tracked laser points in the DVS-image? What entity can be approximated by the value encoded by the y_av ensemble?"
   ]
  },
  {
   "cell_type": "markdown",
   "metadata": {
    "collapsed": true
   },
   "source": [
    "## 3.3 Task 1: Obstacle avoidance\n",
    "\n",
    "Extend the first example and implement a network which drives the robot around and avoids hitting obstacles based on the tracked laser points in the DVS image.\n",
    "\n",
    "### Extension \n",
    "Use the output of your previously implemented network (or manual robot control) as \"training data\" for \"teaching\" the robot the desired behaviour. Therefore, have a look at the example network ```nstbot/lab_examples/learning_pes.py``` to get an idea of how to use the PES learning rule in Nengo."
   ]
  },
  {
   "cell_type": "markdown",
   "metadata": {},
   "source": [
    "## 3.4 Task 2: Robot cat\n",
    "\n",
    "Change to the branch nengo_lab_1_laser by running\n",
    "```\n",
    "git checkout -b nengo_lab_1_laser origin/nengo_lab_1_laser\n",
    "```\n",
    "\n",
    "and reinstall this version of the code by running \n",
    "```\n",
    "python setup.py install\n",
    "```\n",
    "\n",
    "again. Get one the laser-pointer-pens and extend the first example in nstbot/examples/nengo_lab_pushbot_example.py: Implement a network which keeps the blinking stimulus of the laser-pen in the center of robot's field of view and at a certain distance.\n",
    "\n",
    "### Extension \n",
    "Use the output of your previously implemented network (or manual robot control) as \"training data\" for \"teaching\" the robot the desired behaviour. Therefore, have a look at the example network ```nstbot/lab_examples/learning_pes.py``` to get an idea of how to use the PES learning rule in Nengo."
   ]
  }
 ],
 "metadata": {
  "kernelspec": {
   "display_name": "Python 2",
   "language": "python",
   "name": "python2"
  },
  "language_info": {
   "codemirror_mode": {
    "name": "ipython",
    "version": 2
   },
   "file_extension": ".py",
   "mimetype": "text/x-python",
   "name": "python",
   "nbconvert_exporter": "python",
   "pygments_lexer": "ipython2",
   "version": "2.7.13"
  }
 },
 "nbformat": 4,
 "nbformat_minor": 2
}
